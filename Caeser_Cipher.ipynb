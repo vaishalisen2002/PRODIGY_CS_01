{
  "nbformat": 4,
  "nbformat_minor": 0,
  "metadata": {
    "colab": {
      "provenance": []
    },
    "kernelspec": {
      "name": "python3",
      "display_name": "Python 3"
    },
    "language_info": {
      "name": "python"
    }
  },
  "cells": [
    {
      "cell_type": "markdown",
      "source": [
        "**Caeser Cipher**"
      ],
      "metadata": {
        "id": "RvyQb2zI_afJ"
      }
    },
    {
      "cell_type": "code",
      "source": [
        "def caesar_cipher(text, shift, direction):\n",
        "    result = \"\"\n",
        "\n",
        "    for char in text:\n",
        "        if char.isalpha():\n",
        "            ascii_offset = 65 if char.isupper() else 97\n",
        "            char_code = ord(char) - ascii_offset\n",
        "            if direction == \"encrypt\":\n",
        "                char_code = (char_code + shift) % 26\n",
        "            elif direction == \"decrypt\":\n",
        "                char_code = (char_code - shift) % 26\n",
        "            result += chr(char_code + ascii_offset)\n",
        "        else:\n",
        "            result += char\n",
        "\n",
        "    return result"
      ],
      "metadata": {
        "id": "pnUubl2-_gTs"
      },
      "execution_count": 1,
      "outputs": []
    },
    {
      "cell_type": "code",
      "source": [
        "def main():\n",
        "    direction = input(\"Do you want to (E)ncrypt or (D)ecrypt? \")\n",
        "    direction = \"encrypt\" if direction.lower() == \"e\" else \"decrypt\"\n",
        "\n",
        "    text = input(\"Enter your message: \")\n",
        "    shift = int(input(\"Enter the shift value: \"))\n",
        "\n",
        "    result = caesar_cipher(text, shift, direction)\n",
        "\n",
        "    print(f\"Your {direction}ed message is: {result}\")\n",
        "\n",
        "if __name__ == \"__main__\":\n",
        "    main()"
      ],
      "metadata": {
        "colab": {
          "base_uri": "https://localhost:8080/"
        },
        "id": "9_P3RrhP_qGJ",
        "outputId": "3a437939-77a1-4f62-9400-f1ff9cbde8ad"
      },
      "execution_count": 5,
      "outputs": [
        {
          "output_type": "stream",
          "name": "stdout",
          "text": [
            "Do you want to (E)ncrypt or (D)ecrypt? D\n",
            "Enter your message: N qtaj uwtinldnsktyjhm\n",
            "Enter the shift value: 5\n",
            "Your decrypted message is: I love prodigyinfotech\n"
          ]
        }
      ]
    }
  ]
}